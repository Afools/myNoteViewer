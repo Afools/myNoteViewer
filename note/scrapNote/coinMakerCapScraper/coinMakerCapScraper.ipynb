{
 "cells": [
  {
   "cell_type": "code",
   "execution_count": 6,
   "metadata": {},
   "outputs": [
    {
     "ename": "WebDriverException",
     "evalue": "Message: unknown error: net::ERR_CONNECTION_TIMED_OUT\n  (Session info: chrome-headless-shell=122.0.6261.112)\nStacktrace:\n\tGetHandleVerifier [0x00007FF741F3AD02+56930]\n\t(No symbol) [0x00007FF741EAF602]\n\t(No symbol) [0x00007FF741D642E5]\n\t(No symbol) [0x00007FF741D6011A]\n\t(No symbol) [0x00007FF741D529F4]\n\t(No symbol) [0x00007FF741D53D29]\n\t(No symbol) [0x00007FF741D52CF3]\n\t(No symbol) [0x00007FF741D51EF4]\n\t(No symbol) [0x00007FF741D51E11]\n\t(No symbol) [0x00007FF741D50625]\n\t(No symbol) [0x00007FF741D50EDC]\n\t(No symbol) [0x00007FF741D669FD]\n\t(No symbol) [0x00007FF741DE8B47]\n\t(No symbol) [0x00007FF741DCBC9A]\n\t(No symbol) [0x00007FF741DE81E2]\n\t(No symbol) [0x00007FF741DCBA43]\n\t(No symbol) [0x00007FF741D9D438]\n\t(No symbol) [0x00007FF741D9E4D1]\n\tGetHandleVerifier [0x00007FF7422B6F8D+3711213]\n\tGetHandleVerifier [0x00007FF7423104CD+4077101]\n\tGetHandleVerifier [0x00007FF74230865F+4044735]\n\tGetHandleVerifier [0x00007FF741FD9736+706710]\n\t(No symbol) [0x00007FF741EBB8DF]\n\t(No symbol) [0x00007FF741EB6AC4]\n\t(No symbol) [0x00007FF741EB6C1C]\n\t(No symbol) [0x00007FF741EA68D4]\n\tBaseThreadInitThunk [0x00007FFD49687344+20]\n\tRtlUserThreadStart [0x00007FFD4A8626B1+33]\n",
     "output_type": "error",
     "traceback": [
      "\u001b[1;31m---------------------------------------------------------------------------\u001b[0m",
      "\u001b[1;31mWebDriverException\u001b[0m                        Traceback (most recent call last)",
      "\u001b[1;32m~\\AppData\\Local\\Temp\\ipykernel_19080\\1743985027.py\u001b[0m in \u001b[0;36m<cell line: 11>\u001b[1;34m()\u001b[0m\n\u001b[0;32m      9\u001b[0m \u001b[0mdriver\u001b[0m\u001b[1;33m=\u001b[0m\u001b[0mwebdriver\u001b[0m\u001b[1;33m.\u001b[0m\u001b[0mChrome\u001b[0m\u001b[1;33m(\u001b[0m\u001b[0moptions\u001b[0m\u001b[1;33m=\u001b[0m\u001b[0moption\u001b[0m\u001b[1;33m)\u001b[0m\u001b[1;33m\u001b[0m\u001b[1;33m\u001b[0m\u001b[0m\n\u001b[0;32m     10\u001b[0m \u001b[0mdriver\u001b[0m\u001b[1;33m.\u001b[0m\u001b[0mset_window_size\u001b[0m\u001b[1;33m(\u001b[0m\u001b[1;36m1000\u001b[0m\u001b[1;33m,\u001b[0m\u001b[1;36m30000\u001b[0m\u001b[1;33m)\u001b[0m\u001b[1;33m\u001b[0m\u001b[1;33m\u001b[0m\u001b[0m\n\u001b[1;32m---> 11\u001b[1;33m \u001b[0mdriver\u001b[0m\u001b[1;33m.\u001b[0m\u001b[0mget\u001b[0m\u001b[1;33m(\u001b[0m\u001b[0murl\u001b[0m\u001b[1;33m)\u001b[0m\u001b[1;33m\u001b[0m\u001b[1;33m\u001b[0m\u001b[0m\n\u001b[0m\u001b[0;32m     12\u001b[0m \u001b[0mtime\u001b[0m\u001b[1;33m.\u001b[0m\u001b[0msleep\u001b[0m\u001b[1;33m(\u001b[0m\u001b[1;36m5\u001b[0m\u001b[1;33m)\u001b[0m\u001b[1;33m\u001b[0m\u001b[1;33m\u001b[0m\u001b[0m\n\u001b[0;32m     13\u001b[0m \u001b[0mcsv_file\u001b[0m \u001b[1;33m=\u001b[0m \u001b[0mopen\u001b[0m\u001b[1;33m(\u001b[0m\u001b[1;34m'data.csv'\u001b[0m\u001b[1;33m,\u001b[0m \u001b[1;34m'w'\u001b[0m\u001b[1;33m)\u001b[0m\u001b[1;33m\u001b[0m\u001b[1;33m\u001b[0m\u001b[0m\n",
      "\u001b[1;32mc:\\Users\\22639\\anaconda3\\lib\\site-packages\\selenium\\webdriver\\remote\\webdriver.py\u001b[0m in \u001b[0;36mget\u001b[1;34m(self, url)\u001b[0m\n\u001b[0;32m    354\u001b[0m     \u001b[1;32mdef\u001b[0m \u001b[0mget\u001b[0m\u001b[1;33m(\u001b[0m\u001b[0mself\u001b[0m\u001b[1;33m,\u001b[0m \u001b[0murl\u001b[0m\u001b[1;33m:\u001b[0m \u001b[0mstr\u001b[0m\u001b[1;33m)\u001b[0m \u001b[1;33m->\u001b[0m \u001b[1;32mNone\u001b[0m\u001b[1;33m:\u001b[0m\u001b[1;33m\u001b[0m\u001b[1;33m\u001b[0m\u001b[0m\n\u001b[0;32m    355\u001b[0m         \u001b[1;34m\"\"\"Loads a web page in the current browser session.\"\"\"\u001b[0m\u001b[1;33m\u001b[0m\u001b[1;33m\u001b[0m\u001b[0m\n\u001b[1;32m--> 356\u001b[1;33m         \u001b[0mself\u001b[0m\u001b[1;33m.\u001b[0m\u001b[0mexecute\u001b[0m\u001b[1;33m(\u001b[0m\u001b[0mCommand\u001b[0m\u001b[1;33m.\u001b[0m\u001b[0mGET\u001b[0m\u001b[1;33m,\u001b[0m \u001b[1;33m{\u001b[0m\u001b[1;34m\"url\"\u001b[0m\u001b[1;33m:\u001b[0m \u001b[0murl\u001b[0m\u001b[1;33m}\u001b[0m\u001b[1;33m)\u001b[0m\u001b[1;33m\u001b[0m\u001b[1;33m\u001b[0m\u001b[0m\n\u001b[0m\u001b[0;32m    357\u001b[0m \u001b[1;33m\u001b[0m\u001b[0m\n\u001b[0;32m    358\u001b[0m     \u001b[1;33m@\u001b[0m\u001b[0mproperty\u001b[0m\u001b[1;33m\u001b[0m\u001b[1;33m\u001b[0m\u001b[0m\n",
      "\u001b[1;32mc:\\Users\\22639\\anaconda3\\lib\\site-packages\\selenium\\webdriver\\remote\\webdriver.py\u001b[0m in \u001b[0;36mexecute\u001b[1;34m(self, driver_command, params)\u001b[0m\n\u001b[0;32m    345\u001b[0m         \u001b[0mresponse\u001b[0m \u001b[1;33m=\u001b[0m \u001b[0mself\u001b[0m\u001b[1;33m.\u001b[0m\u001b[0mcommand_executor\u001b[0m\u001b[1;33m.\u001b[0m\u001b[0mexecute\u001b[0m\u001b[1;33m(\u001b[0m\u001b[0mdriver_command\u001b[0m\u001b[1;33m,\u001b[0m \u001b[0mparams\u001b[0m\u001b[1;33m)\u001b[0m\u001b[1;33m\u001b[0m\u001b[1;33m\u001b[0m\u001b[0m\n\u001b[0;32m    346\u001b[0m         \u001b[1;32mif\u001b[0m \u001b[0mresponse\u001b[0m\u001b[1;33m:\u001b[0m\u001b[1;33m\u001b[0m\u001b[1;33m\u001b[0m\u001b[0m\n\u001b[1;32m--> 347\u001b[1;33m             \u001b[0mself\u001b[0m\u001b[1;33m.\u001b[0m\u001b[0merror_handler\u001b[0m\u001b[1;33m.\u001b[0m\u001b[0mcheck_response\u001b[0m\u001b[1;33m(\u001b[0m\u001b[0mresponse\u001b[0m\u001b[1;33m)\u001b[0m\u001b[1;33m\u001b[0m\u001b[1;33m\u001b[0m\u001b[0m\n\u001b[0m\u001b[0;32m    348\u001b[0m             \u001b[0mresponse\u001b[0m\u001b[1;33m[\u001b[0m\u001b[1;34m\"value\"\u001b[0m\u001b[1;33m]\u001b[0m \u001b[1;33m=\u001b[0m \u001b[0mself\u001b[0m\u001b[1;33m.\u001b[0m\u001b[0m_unwrap_value\u001b[0m\u001b[1;33m(\u001b[0m\u001b[0mresponse\u001b[0m\u001b[1;33m.\u001b[0m\u001b[0mget\u001b[0m\u001b[1;33m(\u001b[0m\u001b[1;34m\"value\"\u001b[0m\u001b[1;33m,\u001b[0m \u001b[1;32mNone\u001b[0m\u001b[1;33m)\u001b[0m\u001b[1;33m)\u001b[0m\u001b[1;33m\u001b[0m\u001b[1;33m\u001b[0m\u001b[0m\n\u001b[0;32m    349\u001b[0m             \u001b[1;32mreturn\u001b[0m \u001b[0mresponse\u001b[0m\u001b[1;33m\u001b[0m\u001b[1;33m\u001b[0m\u001b[0m\n",
      "\u001b[1;32mc:\\Users\\22639\\anaconda3\\lib\\site-packages\\selenium\\webdriver\\remote\\errorhandler.py\u001b[0m in \u001b[0;36mcheck_response\u001b[1;34m(self, response)\u001b[0m\n\u001b[0;32m    227\u001b[0m                 \u001b[0malert_text\u001b[0m \u001b[1;33m=\u001b[0m \u001b[0mvalue\u001b[0m\u001b[1;33m[\u001b[0m\u001b[1;34m\"alert\"\u001b[0m\u001b[1;33m]\u001b[0m\u001b[1;33m.\u001b[0m\u001b[0mget\u001b[0m\u001b[1;33m(\u001b[0m\u001b[1;34m\"text\"\u001b[0m\u001b[1;33m)\u001b[0m\u001b[1;33m\u001b[0m\u001b[1;33m\u001b[0m\u001b[0m\n\u001b[0;32m    228\u001b[0m             \u001b[1;32mraise\u001b[0m \u001b[0mexception_class\u001b[0m\u001b[1;33m(\u001b[0m\u001b[0mmessage\u001b[0m\u001b[1;33m,\u001b[0m \u001b[0mscreen\u001b[0m\u001b[1;33m,\u001b[0m \u001b[0mstacktrace\u001b[0m\u001b[1;33m,\u001b[0m \u001b[0malert_text\u001b[0m\u001b[1;33m)\u001b[0m  \u001b[1;31m# type: ignore[call-arg]  # mypy is not smart enough here\u001b[0m\u001b[1;33m\u001b[0m\u001b[1;33m\u001b[0m\u001b[0m\n\u001b[1;32m--> 229\u001b[1;33m         \u001b[1;32mraise\u001b[0m \u001b[0mexception_class\u001b[0m\u001b[1;33m(\u001b[0m\u001b[0mmessage\u001b[0m\u001b[1;33m,\u001b[0m \u001b[0mscreen\u001b[0m\u001b[1;33m,\u001b[0m \u001b[0mstacktrace\u001b[0m\u001b[1;33m)\u001b[0m\u001b[1;33m\u001b[0m\u001b[1;33m\u001b[0m\u001b[0m\n\u001b[0m",
      "\u001b[1;31mWebDriverException\u001b[0m: Message: unknown error: net::ERR_CONNECTION_TIMED_OUT\n  (Session info: chrome-headless-shell=122.0.6261.112)\nStacktrace:\n\tGetHandleVerifier [0x00007FF741F3AD02+56930]\n\t(No symbol) [0x00007FF741EAF602]\n\t(No symbol) [0x00007FF741D642E5]\n\t(No symbol) [0x00007FF741D6011A]\n\t(No symbol) [0x00007FF741D529F4]\n\t(No symbol) [0x00007FF741D53D29]\n\t(No symbol) [0x00007FF741D52CF3]\n\t(No symbol) [0x00007FF741D51EF4]\n\t(No symbol) [0x00007FF741D51E11]\n\t(No symbol) [0x00007FF741D50625]\n\t(No symbol) [0x00007FF741D50EDC]\n\t(No symbol) [0x00007FF741D669FD]\n\t(No symbol) [0x00007FF741DE8B47]\n\t(No symbol) [0x00007FF741DCBC9A]\n\t(No symbol) [0x00007FF741DE81E2]\n\t(No symbol) [0x00007FF741DCBA43]\n\t(No symbol) [0x00007FF741D9D438]\n\t(No symbol) [0x00007FF741D9E4D1]\n\tGetHandleVerifier [0x00007FF7422B6F8D+3711213]\n\tGetHandleVerifier [0x00007FF7423104CD+4077101]\n\tGetHandleVerifier [0x00007FF74230865F+4044735]\n\tGetHandleVerifier [0x00007FF741FD9736+706710]\n\t(No symbol) [0x00007FF741EBB8DF]\n\t(No symbol) [0x00007FF741EB6AC4]\n\t(No symbol) [0x00007FF741EB6C1C]\n\t(No symbol) [0x00007FF741EA68D4]\n\tBaseThreadInitThunk [0x00007FFD49687344+20]\n\tRtlUserThreadStart [0x00007FFD4A8626B1+33]\n"
     ]
    }
   ],
   "source": [
    "from bs4 import BeautifulSoup\n",
    "from selenium import webdriver\n",
    "import time\n",
    "import re\n",
    "import csv\n",
    "url=\"https://coinmarketcap.com/dexscan/networks/solana/?page=1&swap=raydium\"\n",
    "driver=webdriver.Chrome()\n",
    "driver.set_window_size(1000,30000)\n",
    "driver.get(url)\n",
    "time.sleep(5)\n",
    "csv_file = open('data.csv', 'w')\n",
    "csv_writer = csv.writer(csv_file)\n",
    "csv_writer.writerow(['ID','Pair','Price','24H Volume'])\n",
    "html = driver.page_source\n",
    "soup = BeautifulSoup(html, 'html.parser')\n",
    "data=soup.find_all('tr', class_=re.compile(\"art-table-row.*\"))\n",
    "pageRowIndex=0\n",
    "print(\"dataSize: \",len(data))\n",
    "for i in range(0,1):\n",
    "    while pageRowIndex<50:\n",
    "        for e in data:\n",
    "            if int(e.attrs['data-rowindex'])<pageRowIndex:\n",
    "                continue\n",
    "            cells=e.find_all('td',class_=re.compile(\"art-table-cell.*\"))\n",
    "            csv_writer.writerow([cells[0].find('span',text=re.compile(\"[0-9]*\")).text,cells[1].find('strong').text,cells[3].find('span').text,cells[7].find('span').text])\n",
    "            pageRowIndex+=1\n",
    "        driver.execute_script(\"window.scrollBy(0,1000)\")\n",
    "        time.sleep(3)\n",
    "        soup=BeautifulSoup(driver.page_source, 'html.parser')\n",
    "        data=soup.find_all('tr', class_=re.compile(\"art-table-row.*\"))\n",
    "    url=\"https://coinmarketcap.com/dexscan/networks/solana/?page={}&swap=raydium\".format(i+2)\n",
    "    driver.get(url)\n",
    "    time.sleep(5)\n",
    "    soup=BeautifulSoup(driver.page_source, 'html.parser')\n",
    "    data=soup.find_all('tr', class_=re.compile(\"art-table-row.*\"))\n",
    "    pageRowIndex=0\n",
    "csv_file.close()\n",
    "driver.quit()"
   ]
  },
  {
   "cell_type": "code",
   "execution_count": 21,
   "metadata": {},
   "outputs": [
    {
     "name": "stdout",
     "output_type": "stream",
     "text": [
      "[[1, 1], [2, 1], [3, 1], [4, 1]]\n"
     ]
    }
   ],
   "source": [
    "def aFunction(e):\n",
    "    return [e,1]\n",
    "alist=[1,2,3,4]\n",
    "print([aFunction(i) for i in alist])"
   ]
  }
 ],
 "metadata": {
  "kernelspec": {
   "display_name": "base",
   "language": "python",
   "name": "python3"
  },
  "language_info": {
   "codemirror_mode": {
    "name": "ipython",
    "version": 3
   },
   "file_extension": ".py",
   "mimetype": "text/x-python",
   "name": "python",
   "nbconvert_exporter": "python",
   "pygments_lexer": "ipython3",
   "version": "3.8.16"
  }
 },
 "nbformat": 4,
 "nbformat_minor": 2
}
